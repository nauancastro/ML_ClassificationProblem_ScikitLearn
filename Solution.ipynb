{
 "cells": [
  {
   "cell_type": "markdown",
   "metadata": {},
   "source": [
    "## Instalação de Requisitos"
   ]
  },
  {
   "cell_type": "code",
   "execution_count": null,
   "metadata": {},
   "outputs": [],
   "source": [
    "# Lendo o arquivo requisitos.txt\n",
    "with open('requisitos.txt', 'r') as file:\n",
    "    requirements = file.readlines()\n",
    "\n",
    "# Removendo espaços em branco e quebras de linha\n",
    "requirements = [requirement.strip() for requirement in requirements]\n",
    "\n",
    "# Instalando as dependências usando pip\n",
    "!pip3 install -U { ' '.join(requirements) }"
   ]
  },
  {
   "cell_type": "markdown",
   "metadata": {},
   "source": [
    "## Importando o DataSet"
   ]
  },
  {
   "cell_type": "code",
   "execution_count": null,
   "metadata": {},
   "outputs": [],
   "source": [
    "import pandas as pd # type: ignore\n",
    "import numpy as np # type: ignore\n",
    "\n",
    "file_path = 'NHANES_age_prediction.csv'\n",
    "data = pd.read_csv(file_path, header=None)\n",
    "data.head()"
   ]
  },
  {
   "cell_type": "markdown",
   "metadata": {},
   "source": [
    "Pequeno Ajuste para melhor compreensão"
   ]
  },
  {
   "cell_type": "code",
   "execution_count": null,
   "metadata": {},
   "outputs": [],
   "source": [
    "# Deleta a primeira linha onde está as features\n",
    "data = data.drop(data.index[0])\n",
    "\n",
    "# Adiciona os nomes traduzidos ao data_set\n",
    "names = ['id','grupo_idade','idade','genero','atividade_fisica','imc','glicose_pos_jejum','diabetes','saude_bucal','insulina']\n",
    "data.columns = names\n",
    "data.head()"
   ]
  },
  {
   "cell_type": "markdown",
   "metadata": {},
   "source": [
    "## Analisando o DATASET\n",
    "1. Dimensões do dataset\n",
    "2. Quantidade de valores NULOS\n",
    "3. Valores UNICOS\n",
    "4. Estatísticas"
   ]
  },
  {
   "cell_type": "code",
   "execution_count": null,
   "metadata": {
    "tags": []
   },
   "outputs": [],
   "source": [
    "data.shape"
   ]
  },
  {
   "cell_type": "code",
   "execution_count": null,
   "metadata": {},
   "outputs": [],
   "source": [
    "data.isnull().sum()"
   ]
  },
  {
   "cell_type": "code",
   "execution_count": null,
   "metadata": {},
   "outputs": [],
   "source": [
    "for col in data.columns:\n",
    "    print(f\"\\nColumn Name: {col}\")\n",
    "    print(data[col].value_counts())"
   ]
  },
  {
   "cell_type": "code",
   "execution_count": null,
   "metadata": {},
   "outputs": [],
   "source": [
    "# Converta todas as colunas para numéricas\n",
    "dataDescribe = data.apply(pd.to_numeric, errors='coerce')\n",
    "\n",
    "# Agora você pode usar describe()\n",
    "dataDescribe.describe()"
   ]
  },
  {
   "cell_type": "markdown",
   "metadata": {},
   "source": [
    "## Pré-Processamento do DataSet"
   ]
  },
  {
   "cell_type": "markdown",
   "metadata": {},
   "source": [
    "Removendo colunas desnecessárias e atribuindo data apenas como numérico"
   ]
  },
  {
   "cell_type": "code",
   "execution_count": null,
   "metadata": {},
   "outputs": [],
   "source": [
    "data = data.drop('id', axis=1)\n",
    "data = data.drop('grupo_idade', axis=1)\n",
    "\n",
    "# Converta todas as colunas para numéricas\n",
    "data = data.apply(pd.to_numeric, errors='coerce')\n",
    "\n",
    "data.head()"
   ]
  },
  {
   "cell_type": "markdown",
   "metadata": {},
   "source": [
    "## Testando o melhor método para identificar OUTLIERS\n",
    "1. método IQR (Interquartile Range)\n",
    "2. Z-Score"
   ]
  },
  {
   "cell_type": "code",
   "execution_count": null,
   "metadata": {},
   "outputs": [],
   "source": [
    "# Calcular Q1, Q3 e IQR\n",
    "Q1 = data.quantile(0.25)\n",
    "Q3 = data.quantile(0.75)\n",
    "IQR = Q3 - Q1\n",
    "\n",
    "# Determinar os limites inferior e superior para identificar outliers\n",
    "lower_bound = Q1 - 1.5 * IQR\n",
    "upper_bound = Q3 + 1.5 * IQR\n",
    "\n",
    "# Identificar outliers\n",
    "outliers = (data < lower_bound) | (data > upper_bound)\n",
    "\n",
    "# Tratar os outliers (remover ou substituir)\n",
    "data_tratada = data[~outliers.any(axis=1)]\n",
    "\n",
    "# Exibir os outliers encontrados\n",
    "print(\"Outliers identificados:\")\n",
    "print(data[outliers.any(axis=1)])\n",
    "\n",
    "#Exibir os dados tratados (sem outliers)\n",
    "print(\"\\nDados tratados:\")\n",
    "print(data_tratada)"
   ]
  },
  {
   "cell_type": "code",
   "execution_count": null,
   "metadata": {},
   "outputs": [],
   "source": [
    "# Teste de tratamento de dados com Z-Score\n",
    "from scipy import stats # type: ignore\n",
    "\n",
    "# Calcular o Z-score para cada ponto de dados\n",
    "z_scores = stats.zscore(data)\n",
    "\n",
    "# Determinar o limite de corte para identificar outliers (por exemplo, 3 desvios padrão)\n",
    "threshold = 3\n",
    "\n",
    "# Identificar outliers\n",
    "outliers = (abs(z_scores) > threshold).any(axis=1)\n",
    "\n",
    "# Tratar os outliers (remover ou substituir)\n",
    "data_tratada = data[~outliers]\n",
    "\n",
    "# Exibir os outliers encontrados\n",
    "print(\"Outliers identificados:\")\n",
    "print(data[outliers])\n",
    "\n",
    "# Exibir os dados tratados (sem outliers)\n",
    "print(\"\\nDados tratados:\")\n",
    "print(data_tratada)"
   ]
  },
  {
   "cell_type": "code",
   "execution_count": null,
   "metadata": {},
   "outputs": [],
   "source": [
    "data_tratada.describe()\n",
    "#mean -> média dos valores na coluna\n",
    "#std -> desvio padrão dos valores na coluna"
   ]
  },
  {
   "cell_type": "code",
   "execution_count": null,
   "metadata": {},
   "outputs": [],
   "source": [
    "data_tratada.shape"
   ]
  },
  {
   "cell_type": "markdown",
   "metadata": {},
   "source": [
    "Baseado nos valores, médios podemos confirmar que a melhor alternativa nesse caso será Z-Index com 3 desvios padrão"
   ]
  }
 ],
 "metadata": {
  "kernelspec": {
   "display_name": "Python 3",
   "language": "python",
   "name": "python3"
  },
  "language_info": {
   "codemirror_mode": {
    "name": "ipython",
    "version": 3
   },
   "file_extension": ".py",
   "mimetype": "text/x-python",
   "name": "python",
   "nbconvert_exporter": "python",
   "pygments_lexer": "ipython3",
   "version": "3.12.2"
  }
 },
 "nbformat": 4,
 "nbformat_minor": 2
}
