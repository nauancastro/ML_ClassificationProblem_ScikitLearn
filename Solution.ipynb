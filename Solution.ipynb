{
 "cells": [
  {
   "cell_type": "markdown",
   "metadata": {},
   "source": [
    "## Instalação de Requisitos"
   ]
  },
  {
   "cell_type": "code",
   "execution_count": null,
   "metadata": {},
   "outputs": [],
   "source": [
    "# Lendo o arquivo requisitos.txt\n",
    "with open('requisitos.txt', 'r') as file:\n",
    "    requirements = file.readlines()\n",
    "\n",
    "# Removendo espaços em branco e quebras de linha\n",
    "requirements = [requirement.strip() for requirement in requirements]\n",
    "\n",
    "# Instalando as dependências usando pip\n",
    "!pip3 install -U { ' '.join(requirements) }"
   ]
  },
  {
   "cell_type": "markdown",
   "metadata": {},
   "source": [
    "## Importando o DataSet e Bibliotecas"
   ]
  },
  {
   "cell_type": "code",
   "execution_count": null,
   "metadata": {},
   "outputs": [],
   "source": [
    "import pandas as pd\n",
    "import numpy as np\n",
    "from scipy import stats\n",
    "from sklearn.model_selection import train_test_split\n",
    "from sklearn import tree\n",
    "from sklearn.ensemble import RandomForestClassifier\n",
    "from sklearn.metrics import accuracy_score\n",
    "\n",
    "file_path = 'NHANES_age_prediction.csv'\n",
    "data = pd.read_csv(file_path, header=None)\n",
    "\n",
    "# Deleta a primeira linha onde está as features\n",
    "data = data.drop(data.index[0])\n",
    "\n",
    "# Adiciona os nomes traduzidos ao data_set\n",
    "names = ['id','grupo_idade','idade','genero','atividade_fisica','imc','glicose_pos_jejum','diabetes','saude_bucal','insulina']\n",
    "data.columns = names\n",
    "\n",
    "data.head()"
   ]
  },
  {
   "cell_type": "markdown",
   "metadata": {},
   "source": [
    "## Analisando o DATASET\n",
    "1. Dimensões do dataset\n",
    "2. Quantidade de valores NULOS\n",
    "3. Valores UNICOS\n",
    "4. Estatísticas"
   ]
  },
  {
   "cell_type": "code",
   "execution_count": null,
   "metadata": {
    "tags": []
   },
   "outputs": [],
   "source": [
    "data.shape"
   ]
  },
  {
   "cell_type": "code",
   "execution_count": null,
   "metadata": {},
   "outputs": [],
   "source": [
    "data.isnull().sum()"
   ]
  },
  {
   "cell_type": "code",
   "execution_count": null,
   "metadata": {},
   "outputs": [],
   "source": [
    "for col in data.columns:\n",
    "    print(f\"\\nColumn Name: {col}\")\n",
    "    print(data[col].value_counts())"
   ]
  },
  {
   "cell_type": "code",
   "execution_count": null,
   "metadata": {},
   "outputs": [],
   "source": [
    "# Converta todas as colunas para numéricas\n",
    "dataDescribe = data.apply(pd.to_numeric, errors='coerce')\n",
    "\n",
    "# Agora você pode usar describe()\n",
    "dataDescribe.describe()"
   ]
  },
  {
   "cell_type": "markdown",
   "metadata": {},
   "source": [
    "## Pré-Processamento do DataSet"
   ]
  },
  {
   "cell_type": "code",
   "execution_count": null,
   "metadata": {},
   "outputs": [],
   "source": [
    "# Removendo colunas desnecessárias\n",
    "# Info importante: > 65 anos é considerado idoso e abaixo = Adulto\n",
    "data = data.drop('id', axis=1)\n",
    "data = data.drop('idade', axis=1)\n",
    "\n",
    "# Transformando a feature grupo_idade(Nosso objetivo) em binário (ou numérico) [Adulto = 0, Idoso = 1]\n",
    "data['grupo_idade'] = data['grupo_idade'].replace({'Adult': 0, 'Senior': 1})\n",
    "\n",
    "# Garantindo que todos os dados estão realmente sendo tratados como numéricos\n",
    "data = data.apply(pd.to_numeric, errors='coerce')\n",
    "\n",
    "# Adicionar nome das colunas ao para a variável feature_names\n",
    "data.feature_names = [data.columns]\n",
    "\n",
    "# Leitura dataset para verificar\n",
    "data.head()"
   ]
  },
  {
   "cell_type": "code",
   "execution_count": null,
   "metadata": {},
   "outputs": [],
   "source": [
    "data.head()"
   ]
  },
  {
   "cell_type": "markdown",
   "metadata": {},
   "source": [
    "Testando o melhor método para identificar outliers\n",
    "1. método IQR (Interquartile Range)"
   ]
  },
  {
   "cell_type": "code",
   "execution_count": null,
   "metadata": {},
   "outputs": [],
   "source": [
    "# Método IQR para identificar e tratar outliers\n",
    "\n",
    "# Calcular Q1, Q3 e IQR\n",
    "Q1 = data.quantile(0.25)\n",
    "Q3 = data.quantile(0.75)\n",
    "IQR = Q3 - Q1\n",
    "\n",
    "# Determinar os limites inferior e superior para identificar outliers\n",
    "lower_bound = Q1 - 3.0 * IQR\n",
    "upper_bound = Q3 + 3.0 * IQR\n",
    "\n",
    "# Identificar outliers\n",
    "outliers = (data < lower_bound) | (data > upper_bound)\n",
    "\n",
    "# Tratar os outliers (remover ou substituir)\n",
    "data_tratada = data[~outliers.any(axis=1)]\n",
    "\n",
    "# Exibir os outliers encontrados\n",
    "print(\"Outliers identificados:\")\n",
    "print(data[outliers.any(axis=1)])\n",
    "\n",
    "#Exibir os dados tratados (sem outliers)\n",
    "print(\"\\nDados tratados:\")\n",
    "print(data_tratada)"
   ]
  },
  {
   "cell_type": "markdown",
   "metadata": {},
   "source": [
    "2. Z-Score method"
   ]
  },
  {
   "cell_type": "code",
   "execution_count": null,
   "metadata": {},
   "outputs": [],
   "source": [
    "# Teste de tratamento de dados com Z-Score\n",
    "# Calcular o Z-score para cada ponto de dados\n",
    "z_scores = stats.zscore(data)\n",
    "\n",
    "# Determinar o limite de corte para identificar outliers (por exemplo, 3 desvios padrão)\n",
    "# Após testes 5.6 foi o melhor valor encontrado para o threshold devido aos diabetes 1 e 3, que em threshholds menores são excluídos, talvez em um dataset maior seja possível encontrar um valor melhor\n",
    "threshold = 5.6\n",
    "\n",
    "# Identificar outliers\n",
    "outliers = (abs(z_scores) > threshold).any(axis=1)\n",
    "\n",
    "# Tratar os outliers (remover ou substituir)\n",
    "data_tratada = data[~outliers]\n",
    "\n",
    "# Exibir os outliers encontrados\n",
    "print(\"Outliers identificados:\")\n",
    "print(data[outliers])\n",
    "\n",
    "# Exibir os dados tratados (sem outliers)\n",
    "print(\"\\nDados tratados:\")\n",
    "print(data_tratada)"
   ]
  },
  {
   "cell_type": "markdown",
   "metadata": {},
   "source": [
    "3. Comandos para testar se é utilizável ou não"
   ]
  },
  {
   "cell_type": "code",
   "execution_count": null,
   "metadata": {},
   "outputs": [],
   "source": [
    "data_tratada.describe()\n",
    "#mean -> média dos valores na coluna\n",
    "#std -> desvio padrão dos valores na coluna"
   ]
  },
  {
   "cell_type": "code",
   "execution_count": null,
   "metadata": {},
   "outputs": [],
   "source": [
    "data_tratada.shape"
   ]
  },
  {
   "cell_type": "code",
   "execution_count": null,
   "metadata": {},
   "outputs": [],
   "source": [
    "for col in data_tratada.columns:\n",
    "    print(f\"\\nColumn Name: {col}\")\n",
    "    print(data_tratada[col].value_counts())"
   ]
  },
  {
   "cell_type": "markdown",
   "metadata": {},
   "source": [
    "Baseado nos valores, médios podemos confirmar que a melhor alternativa nesse caso será Z-Index com 3 desvios padrão, Então devemos dividir os valores em teste e treino"
   ]
  },
  {
   "cell_type": "code",
   "execution_count": null,
   "metadata": {},
   "outputs": [],
   "source": [
    "data = data_tratada\n",
    "\n",
    "# Separando nosso objetivo dos dados explicativos, sendo Y o target e X os dados explicativos\n",
    "x = data.drop('grupo_idade', axis=1)\n",
    "y = data['grupo_idade']\n",
    "\n",
    "# Dividindo os dados em Treino e Teste (30% para teste)\n",
    "X_train, X_test, Y_train, Y_test = train_test_split(x, y, test_size=0.3)"
   ]
  },
  {
   "cell_type": "markdown",
   "metadata": {},
   "source": [
    "## Criando Máquina Preditiva\n",
    "1. Algoritmo \"Decision Tree\""
   ]
  },
  {
   "cell_type": "code",
   "execution_count": null,
   "metadata": {},
   "outputs": [],
   "source": [
    "# Algoritmo \"Decision Tree\"\n",
    "maquina_preditiva = tree.DecisionTreeClassifier()\n",
    "# OBS = Decision Tree acertou ~76.1% dos casos\n",
    "\n",
    "# Treinando com os dados de treino\n",
    "maquina_preditiva.fit(X_train, Y_train)"
   ]
  },
  {
   "cell_type": "markdown",
   "metadata": {},
   "source": [
    "2. Algoritmo \"Random Forest\""
   ]
  },
  {
   "cell_type": "code",
   "execution_count": null,
   "metadata": {},
   "outputs": [],
   "source": [
    "# Algoritmo \"Random Forest\"\n",
    "\n",
    "maquina_preditiva = RandomForestClassifier()\n",
    "# OBS = Random Forest acertou ~83.4% dos casos (melhor resultado)\n",
    "# OBS.2 = Com o hiperparametro diferenes o resultado foi de ~85.25% de acerto (e se manteve em maioria dos casos testados)\n",
    "\n",
    "# Treinando com os dados de treino\n",
    "maquina_preditiva.fit(X_train, Y_train)"
   ]
  },
  {
   "cell_type": "code",
   "execution_count": null,
   "metadata": {},
   "outputs": [],
   "source": [
    "# Testando a máquina preditiva com dados de teste\n",
    "Valor_predito = maquina_preditiva.predict(X_test)\n",
    "print(Valor_predito)"
   ]
  },
  {
   "cell_type": "markdown",
   "metadata": {},
   "source": [
    "## Avaliação da acurácia"
   ]
  },
  {
   "cell_type": "code",
   "execution_count": null,
   "metadata": {},
   "outputs": [],
   "source": [
    "# Avaliando a acurácia\n",
    "print (((accuracy_score(Valor_predito, Y_test)))*100)"
   ]
  }
 ],
 "metadata": {
  "kernelspec": {
   "display_name": "Python 3",
   "language": "python",
   "name": "python3"
  },
  "language_info": {
   "codemirror_mode": {
    "name": "ipython",
    "version": 3
   },
   "file_extension": ".py",
   "mimetype": "text/x-python",
   "name": "python",
   "nbconvert_exporter": "python",
   "pygments_lexer": "ipython3",
   "version": "3.12.2"
  }
 },
 "nbformat": 4,
 "nbformat_minor": 2
}
